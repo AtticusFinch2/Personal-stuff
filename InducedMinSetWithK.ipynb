{
 "cells": [
  {
   "cell_type": "code",
   "execution_count": 32,
   "metadata": {},
   "outputs": [],
   "source": [
    "edges = {1:[3], 2:[3,4], 3:[1,2,5], 4:[2], 5:[3,6],6:[5,7],7:[6,8,9], 8:[7,9], 9:[7,8]}\n",
    "def dfsInducedMin(edges, k, start=1): \n",
    "  visited = set()\n",
    "  markedForDeletion = set()\n",
    "  def dfs(node, parentBad=False):\n",
    "    nonlocal visited\n",
    "    nonlocal markedForDeletion\n",
    "    visited.add(node)\n",
    "    degInit = len(edges[node]) - parentBad\n",
    "    isBad = degInit <k\n",
    "    for neighbor in edges[node]:\n",
    "        if neighbor not in visited:\n",
    "            childIsBad=dfs(neighbor, isBad)\n",
    "            if childIsBad:\n",
    "                degInit -=1\n",
    "                if degInit<k:\n",
    "                   markedForDeletion.add(node)\n",
    "                   isBad = True\n",
    "    isBad = degInit <k\n",
    "    if isBad:\n",
    "       markedForDeletion.add(node)\n",
    "    print(isBad, node, degInit)\n",
    "    return isBad\n",
    "  dfs(start)\n",
    "  independentSet = set()\n",
    "  for key in edges:\n",
    "     if key not in markedForDeletion:\n",
    "        independentSet.add(key)\n",
    "  return independentSet"
   ]
  },
  {
   "cell_type": "code",
   "execution_count": 33,
   "metadata": {},
   "outputs": [
    {
     "name": "stdout",
     "output_type": "stream",
     "text": [
      "True 4 1\n",
      "PAINT\n",
      "True 2 1\n",
      "PAINT\n",
      "False 9 2\n",
      "False 8 2\n",
      "False 7 2\n",
      "True 6 1\n",
      "PAINT\n",
      "True 5 0\n",
      "PAINT\n",
      "True 3 0\n",
      "PAINT\n",
      "True 1 0\n",
      "{8, 9, 7}\n"
     ]
    }
   ],
   "source": [
    "print(dfsInducedMin(edges, 2))"
   ]
  }
 ],
 "metadata": {
  "kernelspec": {
   "display_name": "gpu2",
   "language": "python",
   "name": "gpu2"
  },
  "language_info": {
   "codemirror_mode": {
    "name": "ipython",
    "version": 3
   },
   "file_extension": ".py",
   "mimetype": "text/x-python",
   "name": "python",
   "nbconvert_exporter": "python",
   "pygments_lexer": "ipython3",
   "version": "3.10.9"
  }
 },
 "nbformat": 4,
 "nbformat_minor": 2
}
