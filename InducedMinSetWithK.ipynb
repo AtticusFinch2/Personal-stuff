{
 "cells": [
  {
   "cell_type": "markdown",
   "metadata": {},
   "source": [
    "5-20\n",
    "My algorithm is DFS\n",
    "\n",
    "When we enter Current, we get the degree of current in O(E). (stored in degInit)\n",
    "For each node connected to it that is marked for deletion"
   ]
  },
  {
   "cell_type": "code",
   "execution_count": 65,
   "metadata": {},
   "outputs": [],
   "source": [
    "def dfsInducedMin(edges, k, start=1): \n",
    "  visited = set()\n",
    "  markedForDeletion = set()\n",
    "  def dfs(node, parentBad=False):#O(V)\n",
    "    nonlocal visited\n",
    "    nonlocal markedForDeletion\n",
    "    visited.add(node)\n",
    "    degInit = len([key for key in edges[node] if key not in markedForDeletion]) #- parentBad #O(E) for this\n",
    "    print(degInit)\n",
    "    currentBad = degInit <k\n",
    "    for neighbor in edges[node]: #O(E)\n",
    "         if neighbor not in visited:\n",
    "            childBad=dfs(neighbor, currentBad)\n",
    "            if childBad:\n",
    "                degInit -=1\n",
    "                if degInit<k:\n",
    "                   markedForDeletion.add(node)\n",
    "                   currentBad = True\n",
    "         elif neighbor in markedForDeletion:\n",
    "            degInit -=1\n",
    "            if degInit<k:\n",
    "               markedForDeletion.add(node)\n",
    "               currentBad = True\n",
    "    currentBad = degInit <k\n",
    "    if currentBad:\n",
    "       markedForDeletion.add(node)\n",
    "    #print(currentBad, node, degInit) #debug\n",
    "    return currentBad\n",
    "  dfs(start)\n",
    "  independentSet = set()\n",
    "  for key in edges: #O(V)\n",
    "     if key not in markedForDeletion:\n",
    "        independentSet.add(key)\n",
    "  return independentSet"
   ]
  },
  {
   "cell_type": "code",
   "execution_count": 66,
   "metadata": {},
   "outputs": [
    {
     "name": "stdout",
     "output_type": "stream",
     "text": [
      "1\n",
      "3\n",
      "2\n",
      "1\n",
      "2\n",
      "2\n",
      "3\n",
      "2\n",
      "2\n",
      "{3, 5, 6, 7, 8, 9}\n"
     ]
    }
   ],
   "source": [
    "edges = {1:[3], 2:[3,4], 3:[1,2,5], 4:[2], 5:[3,6],6:[5,7],7:[6,8,9], 8:[7,9], 9:[7,8]}\n",
    "print(dfsInducedMin(edges, 2))"
   ]
  },
  {
   "cell_type": "code",
   "execution_count": 67,
   "metadata": {},
   "outputs": [
    {
     "name": "stdout",
     "output_type": "stream",
     "text": [
      "1\n",
      "3\n",
      "2\n",
      "1\n",
      "2\n",
      "2\n",
      "3\n",
      "2\n",
      "2\n",
      "3\n",
      "3\n",
      "3\n",
      "3\n",
      "3\n",
      "3\n",
      "3\n",
      "3\n",
      "1\n",
      "2\n",
      "3\n",
      "2\n",
      "1\n",
      "1\n",
      "3\n",
      "2\n",
      "1\n",
      "2\n",
      "1\n",
      "0\n",
      "False True True\n"
     ]
    }
   ],
   "source": [
    "def test_dfs1():\n",
    "    edges = {1:[3], 2:[3,4], 3:[1,2,5], 4:[2], 5:[3,6],6:[5,7],7:[6,8,9], 8:[7,9], 9:[7,8]}\n",
    "    return dfsInducedMin(edges, 2) == {7,8,9} and {7,8,9} == dfsInducedMin(edges, 2, 9)\n",
    "def test_dfs2():\n",
    "    edges = {1:[2,3,4],2:[1,3,4], 3:[1,2,4], 4:[1,2,3]}\n",
    "    return dfsInducedMin(edges, 3) == {1,2,3,4} and set() == dfsInducedMin(edges, 4, 4)\n",
    "def test_dfs3():\n",
    "    edges = {1:[2], 2:[1,3], 3:[2,4,6], 4:[3,5], 5:[4], 6:[3]}\n",
    "    return dfsInducedMin(edges, 2) == set() and set() == dfsInducedMin(edges, 2, 3)\n",
    "print(test_dfs1(), test_dfs2(), test_dfs3())"
   ]
  }
 ],
 "metadata": {
  "kernelspec": {
   "display_name": "gpu2",
   "language": "python",
   "name": "gpu2"
  },
  "language_info": {
   "codemirror_mode": {
    "name": "ipython",
    "version": 3
   },
   "file_extension": ".py",
   "mimetype": "text/x-python",
   "name": "python",
   "nbconvert_exporter": "python",
   "pygments_lexer": "ipython3",
   "version": "3.10.9"
  }
 },
 "nbformat": 4,
 "nbformat_minor": 2
}
