{
 "cells": [
  {
   "cell_type": "markdown",
   "metadata": {},
   "source": [
    "5-20\n",
    "My algorithm is DFS\n",
    "\n",
    "When we enter Current, we get the degree of current in O(E). (stored in degInit)\n",
    "\n",
    "\n",
    "If the degree is less than k, then that node is marked for deletion\n",
    "\n",
    "\n",
    "For each node connected to it that is marked for deletion, we change degInit by -1\n",
    "\n",
    "\n",
    "after we have checked all nodes connecting to it (the same place we would do timeOut),\n",
    "we check if our degInit is less than k again, and if it is, we mark it for deletion\n",
    "\n",
    "at the end, we find all nodes in the graph that are not marked for deletion"
   ]
  },
  {
   "cell_type": "code",
   "execution_count": 25,
   "metadata": {},
   "outputs": [],
   "source": [
    "def dfsInducedMin(edges, k, start=1): #ends up O(V+E)\n",
    "  #print(edges)\n",
    "  visited = set()\n",
    "  markedForDeletion = set()\n",
    "  def dfs(node):#called V times\n",
    "    nonlocal visited\n",
    "    nonlocal markedForDeletion\n",
    "    visited.add(node)\n",
    "    #print(node)\n",
    "    degInit = len(edges[node]) #check the degree\n",
    "    currentBad = degInit <k #a node is 'bad' if it should be marked for deletion\n",
    "    if currentBad: markedForDeletion.add(node)\n",
    "    for neighbor in edges[node]: \n",
    "         if neighbor not in visited:\n",
    "            childBad=dfs(neighbor)\n",
    "            degInit-=childBad\n",
    "            currentBad = degInit <k\n",
    "            if currentBad: markedForDeletion.add(node)\n",
    "         elif neighbor in markedForDeletion: #if in markedForDeletion and visited\n",
    "            degInit -=1\n",
    "            currentBad = degInit <k\n",
    "            if currentBad: markedForDeletion.add(node)\n",
    "    currentBad = degInit <k\n",
    "    if currentBad: markedForDeletion.add(node)\n",
    "    return currentBad\n",
    "  for key in edges:\n",
    "    if key not in visited:\n",
    "      #print(key)\n",
    "      dfs(key)\n",
    "  independentSet = set()\n",
    "  for key in edges: #O(V)\n",
    "     if key not in markedForDeletion:\n",
    "        independentSet.add(key)\n",
    "  return independentSet"
   ]
  },
  {
   "cell_type": "code",
   "execution_count": 26,
   "metadata": {},
   "outputs": [
    {
     "name": "stdout",
     "output_type": "stream",
     "text": [
      "{8, 9, 7}\n"
     ]
    }
   ],
   "source": [
    "edges = {1:[3], 2:[3,4], 3:[1,2,5], 4:[2], 5:[3,6],6:[5,7],7:[6,8,9], 8:[7,9], 9:[7,8]}\n",
    "print(dfsInducedMin(edges, 2))"
   ]
  },
  {
   "cell_type": "code",
   "execution_count": 27,
   "metadata": {},
   "outputs": [
    {
     "name": "stdout",
     "output_type": "stream",
     "text": [
      "True True True True\n"
     ]
    }
   ],
   "source": [
    "def test_dfs1():\n",
    "    edges = {1:[3], 2:[3,4], 3:[1,2,5], 4:[2], 5:[3,6],6:[5,7],7:[6,8,9], 8:[7,9], 9:[7,8]}\n",
    "    return dfsInducedMin(edges, 2) == {7,8,9} and {7,8,9} == dfsInducedMin(edges, 2, 9)\n",
    "def test_dfs2():\n",
    "    edges = {1:[2,3,4],2:[1,3,4], 3:[1,2,4], 4:[1,2,3]}\n",
    "    return dfsInducedMin(edges, 3) == {1,2,3,4} and set() == dfsInducedMin(edges, 4, 4)\n",
    "def test_dfs3():\n",
    "    edges = {1:[2], 2:[1,3], 3:[2,4,6], 4:[3,5], 5:[4], 6:[3]}\n",
    "    return dfsInducedMin(edges, 2) == set() and set() == dfsInducedMin(edges, 2, 3)\n",
    "def test_dfs4():\n",
    "    edges = {1:[2,5], 2:[1,3], 3:[2,4,5,6,7], 4:[3,5,6,7], 5:[1,3,4], 6:[3,4,7], 7:[3,4,6]}\n",
    "    return dfsInducedMin(edges, 2) == {1,2,3,4,5,6,7} and {3,4,6,7} == dfsInducedMin(edges, 3)\n",
    "print(test_dfs1(), test_dfs2(), test_dfs3(), test_dfs4())"
   ]
  },
  {
   "cell_type": "code",
   "execution_count": 28,
   "metadata": {},
   "outputs": [],
   "source": [
    "def test_find_max_subgraph():\n",
    "  graph1= {1: {3,4},\n",
    "           2: {4,5},\n",
    "           3: {1,4},\n",
    "           4: {1,2,3,5},\n",
    "           5: {2,4},\n",
    "           6: {}}\n",
    "  print(dfsInducedMin(graph1, 2) == {key for key in {1: {3, 4}, 2: {4, 5}, 3: {1, 4}, 4: {1, 2, 3, 5}, 5: {2, 4}}})\n",
    " \n",
    "  graph2= {1: {3,4},\n",
    "           2: {4,5},\n",
    "           3: {1,4},\n",
    "           4: {1,2,3,5},\n",
    "           5: {2,4},\n",
    "           6: {7},\n",
    "           7: {6,8},\n",
    "           8: {7}}\n",
    "  print(dfsInducedMin(graph2, 2) == {key for key in {1: {3,4}, 2: {4,5}, 3: {1,4}, 4: {1,2,3,5}, 5: {2,4}}})\n",
    " \n",
    "  graph3= {1: {3,4},\n",
    "           2: {4,5},\n",
    "           3: {1,4},\n",
    "           4: {1,2,3,5},\n",
    "           5: {2,4},\n",
    "           6: {7},\n",
    "           7: {6,8},\n",
    "           8: {7},\n",
    "           9: {10},\n",
    "           10:{9}}\n",
    "  print(dfsInducedMin(graph3, 2) == {key for key in {1: {3,4}, 2: {4,5}, 3: {1,4}, 4: {1,2,3,5}, 5: {2,4}}})\n",
    " \n",
    "  graph4= {1: {2,3,4,5,6,7},\n",
    "           2: {1},\n",
    "           3: {1},\n",
    "           4: {1},\n",
    "           5: {1},\n",
    "           6: {1},\n",
    "           7: {1}}\n",
    "  print(dfsInducedMin(graph4, 2) == set())\n",
    "\n",
    "  graph5= {1: {2},\n",
    "           2: {1,3},\n",
    "           3: {2,4},\n",
    "           4: {3,5,6},\n",
    "           5: {4,6},\n",
    "           6: {4,5}}\n",
    "  print(dfsInducedMin(graph5, 2) == {key for key in {4:{5,6}, 5:{4,6}, 6:{4,5}}})\n",
    "\n",
    "  graph7= {1: {2},\n",
    "           2: {1,3,4},\n",
    "           3: {2,4,5},\n",
    "           4: {3,5,6,2},\n",
    "           5: {4,6,3},\n",
    "           6: {1,5,4}}\n",
    "  print(dfsInducedMin(graph7, 3) == set())"
   ]
  },
  {
   "cell_type": "code",
   "execution_count": 29,
   "metadata": {},
   "outputs": [
    {
     "name": "stdout",
     "output_type": "stream",
     "text": [
      "True\n",
      "True\n",
      "True\n",
      "True\n",
      "True\n",
      "True\n",
      "set()\n"
     ]
    }
   ],
   "source": [
    "graph4= {1: {2,3,4,5,6,7},\n",
    "           2: {1},\n",
    "           3: {1},\n",
    "           4: {1},\n",
    "           5: {1},\n",
    "           6: {1},\n",
    "           7: {1}}\n",
    "test_find_max_subgraph()\n",
    "print(dfsInducedMin(graph4, 2))"
   ]
  }
 ],
 "metadata": {
  "kernelspec": {
   "display_name": "gpu2",
   "language": "python",
   "name": "gpu2"
  },
  "language_info": {
   "codemirror_mode": {
    "name": "ipython",
    "version": 3
   },
   "file_extension": ".py",
   "mimetype": "text/x-python",
   "name": "python",
   "nbconvert_exporter": "python",
   "pygments_lexer": "ipython3",
   "version": "3.10.9"
  }
 },
 "nbformat": 4,
 "nbformat_minor": 2
}
