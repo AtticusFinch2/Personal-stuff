{
 "cells": [
  {
   "cell_type": "code",
   "execution_count": 2,
   "metadata": {},
   "outputs": [],
   "source": [
    "import pytest\n",
    "edges = {1:[2,3], 2:[1,4,5], 3:[8,1], 4:[2,6], 5:[2],6:[2,7],7:[6], 8:[3]}"
   ]
  },
  {
   "cell_type": "markdown",
   "metadata": {},
   "source": [
    "5-19. The diameter of a tree T = (V, E) is given by\n",
    "max delta(u, v)\n",
    "(where delta(u, v) is the number of edges on the path from u to v). Describe an efficient\n",
    "algorithm to compute the diameter of a tree, and show the correctness and analyze\n",
    "the running time of your algorithm."
   ]
  },
  {
   "cell_type": "markdown",
   "metadata": {},
   "source": [
    "Take cases:\n",
    "        1               1\n",
    "       / \\             / \\\n",
    "      2   3           2   3\n",
    "                     / \\\n",
    "                    4   5\n",
    "                   /     \\\n",
    "                  6       7\n",
    "                 /         \\\n",
    "                8           9\n"
   ]
  }
 ],
 "metadata": {
  "kernelspec": {
   "display_name": "gpu2",
   "language": "python",
   "name": "gpu2"
  },
  "language_info": {
   "codemirror_mode": {
    "name": "ipython",
    "version": 3
   },
   "file_extension": ".py",
   "mimetype": "text/x-python",
   "name": "python",
   "nbconvert_exporter": "python",
   "pygments_lexer": "ipython3",
   "version": "3.10.9"
  }
 },
 "nbformat": 4,
 "nbformat_minor": 2
}
