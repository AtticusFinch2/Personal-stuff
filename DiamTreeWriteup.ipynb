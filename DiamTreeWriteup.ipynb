{
 "cells": [
  {
   "cell_type": "code",
   "execution_count": 1,
   "metadata": {},
   "outputs": [],
   "source": [
    "edges = {1:[2,3], 2:[1,4,5], 3:[8,1], 4:[2,6], 5:[2],6:[2,7],7:[6], 8:[3]}"
   ]
  },
  {
   "cell_type": "markdown",
   "metadata": {},
   "source": [
    "5-19. The diameter of a tree T = (V, E) is given by\n",
    "max delta(u, v)\n",
    "(where delta(u, v) is the number of edges on the path from u to v). Describe an efficient\n",
    "algorithm to compute the diameter of a tree, and show the correctness and analyze\n",
    "the running time of your algorithm."
   ]
  },
  {
   "cell_type": "markdown",
   "metadata": {},
   "source": [
    "Take these trees as examples:\n",
    "\n",
    "        1               1\n",
    "       /|\\             / \\\n",
    "      2 4 3           2   3\n",
    "        |            / \\\n",
    "        5           4   5\n",
    "                   /     \\\n",
    "                  6       7\n",
    "                 /         \\\n",
    "                8           9\n"
   ]
  },
  {
   "cell_type": "markdown",
   "metadata": {},
   "source": [
    "We can re-express the values of the nodes as their longest descending distance to a leaf: (let's just call this value 'b')\n",
    "\n",
    "        2               4\n",
    "       /|\\             / \\\n",
    "      0 1 0           3   0\n",
    "        |            / \\\n",
    "        0           2   2\n",
    "                   /     \\\n",
    "                  1       1\n",
    "                 /         \\\n",
    "                0           0 "
   ]
  },
  {
   "cell_type": "markdown",
   "metadata": {},
   "source": [
    "The longest path is always a leaf to a leaf, because any node that is not a leaf has an edge that is not on the path, and thus the path can be extended\n",
    "For instance, in the first graph, the distance from node 4 to node 3 is not as long as the distance between node 5 and node 3.\n",
    "\n",
    "\n",
    "The 'lowest' common ancestor for the greatest path always has the highest sum of 'b'(the value stated in the last block) for 2 of its children\n",
    "for these two children, 2+<their b values> = length of maximum path\n",
    "\n",
    "\n",
    "to find these two values, we keep track of the top two b values of children for each node once we process it fully during DFS\n"
   ]
  },
  {
   "cell_type": "code",
   "execution_count": 2,
   "metadata": {},
   "outputs": [],
   "source": [
    "def dfsDiam(edges, start): #start out with simple dfs, we are guaranteed a tree\n",
    "  visited = set()\n",
    "  diameter = 0\n",
    "  def dfs(node):\n",
    "    nonlocal diameter\n",
    "    nonlocal visited\n",
    "    visited.add(node)\n",
    "    first=0\n",
    "    second =0\n",
    "    for neighbor in edges[node]:\n",
    "      if neighbor not in visited:#guaranteed a tree so if not visited, will always be child\n",
    "        b = dfs(neighbor) + 1   \n",
    "        #we add 1 because this is the parent of neighbor,\n",
    "        #so we have to count the edge between parent and neighbor\n",
    "\n",
    "        #this code keeps track of the highest 2 descending \"first\" values,\n",
    "        #stored in first and second.\n",
    "        ###############################################\n",
    "        if b>=first:\n",
    "          second = first\n",
    "        elif b>second and first!=0:\n",
    "          second = b\n",
    "        first = max(first, b)\n",
    "        ###############################################\n",
    "    \n",
    "    diameter = max(diameter, first+second) \n",
    "    #since first and second in code are already 1 greater \n",
    "    #than the values at the respective child node,\n",
    "    #we don't need to increment diameter by 2 here\n",
    "\n",
    "    #print(node, first, second, first+second) #debug\n",
    "\n",
    "    \n",
    "    return first # send back to parent\n",
    "  dfs(start)\n",
    "  return diameter"
   ]
  },
  {
   "cell_type": "markdown",
   "metadata": {},
   "source": [
    "This runs in O(V+E), because this is just DFS"
   ]
  },
  {
   "cell_type": "code",
   "execution_count": 3,
   "metadata": {},
   "outputs": [],
   "source": [
    "def test_dfsDiam1():\n",
    "  return(dfsDiam({1:[2,3], 2:[1,4,5], 3:[8,1], 4:[2,6], 5:[2],6:[2,7],7:[6], 8:[3]},1) == 6)\n",
    "def test_dfsDiam2():\n",
    "  return(dfsDiam({1:[2,3], 2:[1], 3:[1]},1) == 2)\n",
    "def test_dfsDiam3():\n",
    "  edges = {1:[2,3], 2:[1,4,5], 3:[1], 4:[2,6], 5:[2,7], 6:[4,8], 7:[5,9], 8:[6], 9:[7]}\n",
    "  return(dfsDiam(edges,1) == 6)"
   ]
  },
  {
   "cell_type": "code",
   "execution_count": 4,
   "metadata": {},
   "outputs": [
    {
     "name": "stdout",
     "output_type": "stream",
     "text": [
      "True True True\n"
     ]
    }
   ],
   "source": [
    "print(test_dfsDiam1(), test_dfsDiam2(), test_dfsDiam3())"
   ]
  }
 ],
 "metadata": {
  "kernelspec": {
   "display_name": "gpu2",
   "language": "python",
   "name": "gpu2"
  },
  "language_info": {
   "codemirror_mode": {
    "name": "ipython",
    "version": 3
   },
   "file_extension": ".py",
   "mimetype": "text/x-python",
   "name": "python",
   "nbconvert_exporter": "python",
   "pygments_lexer": "ipython3",
   "version": "3.10.9"
  }
 },
 "nbformat": 4,
 "nbformat_minor": 2
}
