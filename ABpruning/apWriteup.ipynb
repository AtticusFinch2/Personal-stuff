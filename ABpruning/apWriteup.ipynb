{
 "cells": [
  {
   "cell_type": "code",
   "execution_count": 5,
   "metadata": {},
   "outputs": [
    {
     "name": "stdout",
     "output_type": "stream",
     "text": [
      "[[], [], [], [], [], [], [], []]\n"
     ]
    }
   ],
   "source": [
    "import copy\n",
    "import random\n",
    "import numpy as np\n",
    "MAX_INT = 2**30\n",
    "branching = 2\n",
    "initDepth = 7\n",
    "displayArr = [[] for d in range(initDepth+1)]\n",
    "print(displayArr)"
   ]
  },
  {
   "cell_type": "markdown",
   "metadata": {},
   "source": [
    "These functions will have implementation-specific definitions:"
   ]
  },
  {
   "cell_type": "code",
   "execution_count": 6,
   "metadata": {},
   "outputs": [],
   "source": [
    "def move(node, branch):  # make a possible move of the moves possible for a board position\n",
    "    return 1\n",
    "def static_value(node):  # value of the board position (in an actual scenario this would be a high time complexity function)\n",
    "    return random.randrange(-50, 50)\n",
    "def isTerminal(node):  # game ends on the node\n",
    "    return False"
   ]
  },
  {
   "cell_type": "markdown",
   "metadata": {},
   "source": [
    "The purpose of alpha-beta pruning in minimax acknowledges that the evaluation function (static_value in this case) is the bottleneck of the algorithm, and that any steps that can be taken to minimize the amount of times this function is called reduce the time complexity."
   ]
  },
  {
   "cell_type": "markdown",
   "metadata": {},
   "source": [
    "The algorithm 'prunes' the 'branch' that can be ignored due to the nature of the alternating min-max nature of minimax: At the root node, alpha and beta are initialized as negative infinity and positive infinity respectively. Then, as nodes are expanded, the  maximum or minimum (depending on the type of node) values recorded from its visited child nodes are stored in alpha and beta respectively. If beta is less than alpha, that means the parent of the current node would never choose the path of the current node because no matter how much 'better' the value gets for the current node, its parent always wants the worst outcome for the current team, and will always choose one of its other children that we know has a worse outcome for the current team. This means that we can ignore/prune the rest of the current branch, and save time."
   ]
  },
  {
   "cell_type": "markdown",
   "metadata": {},
   "source": [
    "The actual code for Minimax with Alpha Beta Pruning goes as follows:"
   ]
  },
  {
   "cell_type": "code",
   "execution_count": 7,
   "metadata": {},
   "outputs": [],
   "source": [
    "def minimax(node, depth, alpha, beta, maxing):\n",
    "    if isTerminal(node) or depth<=0:\n",
    "        v = static_value(node)\n",
    "        displayArr[initDepth - depth].append(v)  # telemetry\n",
    "        return v\n",
    "    children = [move(node, branch) for branch in range(branching)]\n",
    "    value = MAX_INT*(not maxing)\n",
    "    for child in children:\n",
    "        x = minimax(child, depth-1, alpha, beta, not maxing)\n",
    "        if maxing:\n",
    "            value = max(value, x)\n",
    "            alpha = max(alpha, x)\n",
    "        else:\n",
    "            value = min(value, x)\n",
    "            beta = min(beta, x)\n",
    "        if beta <= alpha:\n",
    "            #print(\"pruned\")\n",
    "            break\n",
    "    displayArr[initDepth-depth].append(value)  # telemetry\n",
    "    return value"
   ]
  },
  {
   "cell_type": "code",
   "execution_count": 8,
   "metadata": {},
   "outputs": [
    {
     "name": "stdout",
     "output_type": "stream",
     "text": [
      "[7]\n",
      "[2, 7]\n",
      "[2, 15, 7, 9]\n",
      "[2, 0, 15, 7, 0, 9]\n",
      "[19, 2, 0, 15, 30, 20, 7, 0, 19, 9]\n",
      "[0, 19, 2, 0, 0, 0, 15, 30, 0, 20, 0, 7, 0, 0, 19, 9]\n",
      "[36, 0, 34, 19, 2, 26, 0, 0, 0, 22, 15, 30, 32, 24, 0, 32, 20, 0, 7, 43, 0, 10, 0, 19, 36, 9, 31]\n",
      "[-35, 36, -47, -14, -18, 34, 19, -22, -7, 2, 26, -6, -16, -43, -24, -10, -38, -50, 22, -22, 15, 30, 32, 24, -16, -44, -36, 14, 32, -18, 20, -7, -8, 7, -32, 43, -34, -25, 10, -47, -29, -44, 5, 19, 36, 9, 31]\n"
     ]
    }
   ],
   "source": [
    "minimax(1, initDepth, -MAX_INT, MAX_INT, True)\n",
    "for i in range(initDepth+1):\n",
    "    print(displayArr[i])"
   ]
  },
  {
   "cell_type": "markdown",
   "metadata": {},
   "source": [
    "You can tell that there was pruning wherever a row is not double the length of its parent row (assuming branching factor is 2)"
   ]
  }
 ],
 "metadata": {
  "kernelspec": {
   "display_name": "gpu2",
   "language": "python",
   "name": "gpu2"
  },
  "language_info": {
   "codemirror_mode": {
    "name": "ipython",
    "version": 3
   },
   "file_extension": ".py",
   "mimetype": "text/x-python",
   "name": "python",
   "nbconvert_exporter": "python",
   "pygments_lexer": "ipython3",
   "version": "3.10.9"
  }
 },
 "nbformat": 4,
 "nbformat_minor": 2
}
