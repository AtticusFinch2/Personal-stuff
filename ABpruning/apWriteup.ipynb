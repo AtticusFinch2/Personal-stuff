{
 "cells": [
  {
   "cell_type": "code",
   "execution_count": 34,
   "metadata": {},
   "outputs": [
    {
     "name": "stdout",
     "output_type": "stream",
     "text": [
      "[[], [], [], [], [], []]\n"
     ]
    }
   ],
   "source": [
    "import copy\n",
    "import random\n",
    "import numpy as np\n",
    "MAX_INT = 2**30\n",
    "branching = 2\n",
    "initDepth = 5\n",
    "displayArr = [[] for d in range(initDepth+1)]\n",
    "print(displayArr)"
   ]
  },
  {
   "cell_type": "markdown",
   "metadata": {},
   "source": [
    "These functions will have implementation-specific definitions:"
   ]
  },
  {
   "cell_type": "code",
   "execution_count": 35,
   "metadata": {},
   "outputs": [],
   "source": [
    "def move(node, k):  # make a possible move of the moves\n",
    "    return 1\n",
    "def static_value(node):  # value of the board position (in an actual scenario this would be a high time complexity function)\n",
    "    return (random.randrange(-50, 50))\n",
    "def isTerminal(node):  # game ends on the node\n",
    "    return False"
   ]
  },
  {
   "cell_type": "markdown",
   "metadata": {},
   "source": [
    "The purpose of alpha-beta pruning in minimax acknowledges that the evaluation function (static_value in this case) is the bottleneck of the algorithm, and that any steps that can be taken to minimize the amount of times this function is called reduce the time complexity."
   ]
  },
  {
   "cell_type": "markdown",
   "metadata": {},
   "source": [
    "The algorithm 'prunes' the 'branch' that can be ignored due to the nature of the alternating min-max nature of minimax. At the root node, alpha and beta are initialized as negative infinity and positive infinity respectively. Then, as nodes are expanded, the  maximum or minimum (depending on the type of node) values recorded from its visited child nodes are stored in alpha and beta respectively. If beta is less than alpha, that means the parent of the current node would never choose the path of the current node because no matter how much better the value gets for the current node, its parent always wants the worst outcome for the current team, and will always choose one of its other children that we know has a worse outcome for the current team. This means that we can ignore/prune the rest of the current branch, and save time."
   ]
  },
  {
   "cell_type": "markdown",
   "metadata": {},
   "source": [
    "The actual code for Minimax with Alpha Beta Pruning goes as follows:"
   ]
  },
  {
   "cell_type": "code",
   "execution_count": 36,
   "metadata": {},
   "outputs": [],
   "source": [
    "def minimax(node, depth, alpha, beta, maxing):\n",
    "    if isTerminal(node) or depth<=0:\n",
    "        v = static_value(node)\n",
    "        displayArr[initDepth - depth].append(v)  # telemetry\n",
    "        return v\n",
    "    children = [move(node, branch) for branch in range(branching)]\n",
    "    value = MAX_INT if not maxing else -MAX_INT\n",
    "    for child in children:\n",
    "        x = minimax(child, depth-1, alpha, beta, not maxing)\n",
    "        if maxing:\n",
    "            value = max(value, x)\n",
    "            alpha = max(value, x)\n",
    "        else:\n",
    "            value = min(value, x)\n",
    "            beta = min(value, x)\n",
    "        if beta <= alpha:\n",
    "            break\n",
    "    displayArr[initDepth-depth].append(value)  # telemetry\n",
    "    return value"
   ]
  },
  {
   "cell_type": "code",
   "execution_count": 37,
   "metadata": {},
   "outputs": [
    {
     "name": "stdout",
     "output_type": "stream",
     "text": [
      "[8]\n",
      "[8, 6]\n",
      "[30, 8, 6]\n",
      "[30, 19, 8, -16, 6, 2]\n",
      "[36, 30, 19, 8, 30, 39, -16, 6, 2]\n",
      "[36, 3, 30, -28, -38, 19, 8, -3, 30, 39, -26, -16, -41, 6, 2, -42]\n"
     ]
    }
   ],
   "source": [
    "minimax(1, initDepth, -MAX_INT, MAX_INT, True)\n",
    "for i in range(initDepth+1):\n",
    "    print(displayArr[i])"
   ]
  },
  {
   "cell_type": "markdown",
   "metadata": {},
   "source": [
    "You can tell that there was pruning wherever a row is not double the length of its parent row (assuming branching factor is 2)"
   ]
  }
 ],
 "metadata": {
  "kernelspec": {
   "display_name": "gpu2",
   "language": "python",
   "name": "gpu2"
  },
  "language_info": {
   "codemirror_mode": {
    "name": "ipython",
    "version": 3
   },
   "file_extension": ".py",
   "mimetype": "text/x-python",
   "name": "python",
   "nbconvert_exporter": "python",
   "pygments_lexer": "ipython3",
   "version": "3.10.9"
  }
 },
 "nbformat": 4,
 "nbformat_minor": 2
}
